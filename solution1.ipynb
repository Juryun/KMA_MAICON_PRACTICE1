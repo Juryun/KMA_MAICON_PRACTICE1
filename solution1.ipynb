{
  "nbformat": 4,
  "nbformat_minor": 0,
  "metadata": {
    "colab": {
      "provenance": []
    },
    "kernelspec": {
      "name": "python3",
      "display_name": "Python 3"
    },
    "language_info": {
      "name": "python"
    }
  },
  "cells": [
    {
      "cell_type": "code",
      "execution_count": null,
      "metadata": {
        "id": "JdtcmONFsipC"
      },
      "outputs": [],
      "source": [
        "import pandas as pd\n",
        "import numpy as np\n",
        "import matplotlib.pyplot as plt\n",
        "\n",
        "\n",
        "def load_csv(path):\n",
        "    \"\"\"pandas를 이용하여 데이터를 DataFrame의 형태로 불러와 반환하는 load_csv 함수를 작성합니다.\"\"\"\n",
        "\n",
        "    data_frame = pd.read_csv(path)\n",
        "    return data_frame\n",
        "\n",
        "\n",
        "def main():\n",
        "    # 데이터 주소\n",
        "    TRAIN_PATH = \"data/train.csv\"\n",
        "    TEST_PATH = \"data/test.csv\"\n",
        "\n",
        "    # 학습 데이터\n",
        "    train = load_csv(TRAIN_PATH)\n",
        "\n",
        "    # 테스트 데이터\n",
        "    test = load_csv(TEST_PATH)\n",
        "\n",
        "    # 학습에 사용되는 특징들\n",
        "    features = train.columns.drop([\"id\", \"DEATH_EVENT\"])\n",
        "\n",
        "    # 모델 정의 (자유롭게 모델을 정의)\n",
        "    model = None\n",
        "\n",
        "    # 모델 학습 (정의한 모델을 학습)\n",
        "    None\n",
        "\n",
        "    # 모델을 사용해 예측\n",
        "    pred = None\n",
        "\n",
        "    # 제출을 위해 칼럼에 결과를 추가\n",
        "    test[\"DEATH_EVENT\"] = pred\n",
        "\n",
        "    return test\n",
        "\n",
        "\n",
        "main()"
      ]
    }
  ]
}