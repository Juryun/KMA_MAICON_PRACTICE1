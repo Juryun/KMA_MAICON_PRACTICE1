{
  "nbformat": 4,
  "nbformat_minor": 0,
  "metadata": {
    "colab": {
      "provenance": []
    },
    "kernelspec": {
      "name": "python3",
      "display_name": "Python 3"
    },
    "language_info": {
      "name": "python"
    }
  },
  "cells": [
    {
      "cell_type": "code",
      "execution_count": null,
      "metadata": {
        "id": "JdtcmONFsipC"
      },
      "outputs": [],
      "source": [
        "import pandas as pd\n",
        "import numpy as np\n",
        "import matplotlib.pyplot as plt\n",
        "\n",
        "# 데이터 주소\n",
        "DATA_PATH = \"data/train.csv\"\n",
        "\n",
        "\n",
        "def load_csv(path) -> pd.DataFrame:\n",
        "    \"\"\"pandas를 이용하여 데이터를 DataFrame의 형태로 불러옵니다.\"\"\"\n",
        "\n",
        "    df = pd.read_csv(path)\n",
        "    return df\n",
        "\n",
        "\n",
        "def get_high_blood(df: pd.DataFrame) -> pd.DataFrame:\n",
        "    \"\"\"df에서 지시사항의 조건에 해당하는 데이터를 찾아 데이터프레임의 형태로 반환합니다.\"\"\"\n",
        "\n",
        "    df_high_bloods = None\n",
        "    return df_high_bloods\n",
        "\n",
        "\n",
        "def make_scatter(df: pd.DataFrame):\n",
        "    \"\"\"matplotlib.pyplot 라이브러리를 이용해 나이와 혈소판 수치의 산점도 그래프를 그립니다.\"\"\"\n",
        "\n",
        "    x = None\n",
        "    y = None\n",
        "    None\n",
        "    show_plot(\"scatter\")\n",
        "\n",
        "    return x, y\n",
        "\n",
        "\n",
        "def show_plot(fig_name: str):\n",
        "    \"\"\"그래프를 보여주는 함수입니다.\"\"\"\n",
        "\n",
        "    plt.savefig(fig_name + \".png\")\n",
        "    elice_utils.send_image(fig_name + \".png\")\n",
        "    plt.cla()\n",
        "\n",
        "\n",
        "def main():\n",
        "    # 데이터 불러오기\n",
        "    df_train = load_csv(DATA_PATH)\n",
        "\n",
        "    # 1. 데이터 추출하기\n",
        "    df_high_blood = get_high_blood(df_train)\n",
        "    print(df_high_blood)\n",
        "\n",
        "    # 2. 산점도 그리기\n",
        "    make_scatter(df_train)\n",
        "\n",
        "\n",
        "main()"
      ]
    }
  ]
}