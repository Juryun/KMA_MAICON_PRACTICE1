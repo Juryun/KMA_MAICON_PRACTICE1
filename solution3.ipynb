{
  "nbformat": 4,
  "nbformat_minor": 0,
  "metadata": {
    "colab": {
      "provenance": []
    },
    "kernelspec": {
      "name": "python3",
      "display_name": "Python 3"
    },
    "language_info": {
      "name": "python"
    }
  },
  "cells": [
    {
      "cell_type": "code",
      "execution_count": null,
      "metadata": {
        "id": "JdtcmONFsipC"
      },
      "outputs": [],
      "source": [
        "import pandas as pd\n",
        "import numpy as np\n",
        "from sklearn.model_selection import train_test_split\n",
        "\n",
        "# 데이터 경로\n",
        "DATA_PATH = \"data/train.csv\"\n",
        "\n",
        "\n",
        "def load_csv(path) -> pd.DataFrame:\n",
        "    \"\"\"pandas를 이용하여 데이터를 DataFrame의 형태로 불러옵니다.\"\"\"\n",
        "\n",
        "    df = pd.read_csv(path)\n",
        "    return df\n",
        "\n",
        "\n",
        "def remove_nan(df: pd.DataFrame) -> pd.DataFrame:\n",
        "    \"\"\"결측치가 존재하는 행을 삭제하고 반환합니다.\"\"\"\n",
        "\n",
        "    df = None\n",
        "    return df\n",
        "\n",
        "\n",
        "def remove_outlier(df: pd.DataFrame) -> pd.DataFrame:\n",
        "    \"\"\"나이의 값이 60.667인 행을 삭제하여 반환합니다.\"\"\"\n",
        "\n",
        "    df = None\n",
        "    return df\n",
        "\n",
        "\n",
        "def divide_data(df: pd.DataFrame):\n",
        "    \"\"\"데이터프레임을 전달받아 학습용 데이터와 검증용 데이터로 나눠 반환합니다.\"\"\"\n",
        "\n",
        "    features = None\n",
        "    X = None\n",
        "    y = df[\"DEATH_EVENT\"]\n",
        "    X_train, X_valid, y_train, y_valid = None\n",
        "\n",
        "    return X_train, X_valid, y_train, y_valid\n",
        "\n",
        "\n",
        "def main():\n",
        "    # 데이터 불러오기\n",
        "    df = load_csv(DATA_PATH)\n",
        "\n",
        "    # 1. 결측치 제거\n",
        "    df = remove_nan(df)\n",
        "\n",
        "    # 2. 이상치 제거\n",
        "    df = remove_outlier(df)\n",
        "\n",
        "    # 3. 데이터 나누기\n",
        "    X_train, X_valid, y_train, y_valid = divide_data(df)\n",
        "\n",
        "\n",
        "main()\n"
      ]
    }
  ]
}